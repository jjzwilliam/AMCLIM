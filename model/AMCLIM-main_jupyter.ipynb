{
 "cells": [
  {
   "cell_type": "code",
   "execution_count": 1,
   "metadata": {},
   "outputs": [
    {
     "name": "stderr",
     "output_type": "stream",
     "text": [
      "/Users/gilgameshj/Desktop/PhD/project/Chapter1/model_development/global model/AMCLIM/MODULES/HOUSING.py:89: RuntimeWarning: invalid value encountered in power\n",
      "  mois_coeff = (-np.log(1.01-(RH_in/100))/(0.0000534*(T_in+273.15)))**(1/1.41)\n"
     ]
    }
   ],
   "source": [
    "from MODULES.HOUSING import *\n",
    "from POSTPROC.postprocessing import *"
   ]
  },
  {
   "cell_type": "code",
   "execution_count": 2,
   "metadata": {},
   "outputs": [],
   "source": [
    "test_SLAT_PIT_sim = SLAT_PIT_HOUSING(mtrx)\n",
    "test_BARN_sim = BARN_HOUSING"
   ]
  },
  {
   "cell_type": "code",
   "execution_count": 5,
   "metadata": {},
   "outputs": [
    {
     "name": "stdout",
     "output_type": "stream",
     "text": [
      "Jul\n"
     ]
    },
    {
     "name": "stderr",
     "output_type": "stream",
     "text": [
      "/Users/gilgameshj/Desktop/PhD/project/Chapter1/model_development/global model/AMCLIM/MODULES/HOUSING_v2.py:925: RuntimeWarning: invalid value encountered in greater_equal\n",
      "  self.manure_initwc_slat[dd+1][water_slat_idx>=0] -\\\n",
      "/Users/gilgameshj/Desktop/PhD/project/Chapter1/model_development/global model/AMCLIM/MODULES/HOUSING_v2.py:926: RuntimeWarning: invalid value encountered in greater_equal\n",
      "  self.evap_slat[dd+1][water_slat_idx>=0]\n",
      "/Users/gilgameshj/Desktop/PhD/project/Chapter1/model_development/global model/AMCLIM/MODULES/HOUSING_v2.py:927: RuntimeWarning: invalid value encountered in less\n",
      "  self.Total_water_pool_slat[dd+1][water_slat_idx<0] = self.manure_minwc_slat[dd+1][water_slat_idx<0]\n",
      "/Users/gilgameshj/Desktop/PhD/project/Chapter1/model_development/global model/AMCLIM/MODULES/HOUSING_v2.py:933: RuntimeWarning: invalid value encountered in greater\n",
      "  self.evap_pit[dd][water_pit_idx>0] +\\\n",
      "/Users/gilgameshj/Desktop/PhD/project/Chapter1/model_development/global model/AMCLIM/MODULES/HOUSING_v2.py:934: RuntimeWarning: invalid value encountered in greater\n",
      "  self.Total_water_pool_slat[dd][water_pit_idx>0]\n",
      "/Users/gilgameshj/Desktop/PhD/project/Chapter1/model_development/global model/AMCLIM/MODULES/HOUSING_v2.py:934: RuntimeWarning: invalid value encountered in greater_equal\n",
      "  self.Total_water_pool_slat[dd][water_pit_idx>0]\n",
      "/Users/gilgameshj/Desktop/PhD/project/Chapter1/model_development/global model/AMCLIM/MODULES/HOUSING_v2.py:937: RuntimeWarning: invalid value encountered in less_equal\n",
      "  self.manure_initwc_pit[dd+1][water_pit_idx<=0] +\\\n",
      "/Users/gilgameshj/Desktop/PhD/project/Chapter1/model_development/global model/AMCLIM/MODULES/HOUSING_v2.py:938: RuntimeWarning: invalid value encountered in less_equal\n",
      "  self.Total_water_pool_slat[dd][water_pit_idx<=0]\n",
      "/Users/gilgameshj/Desktop/PhD/project/Chapter1/model_development/global model/AMCLIM/MODULES/HOUSING_v2.py:938: RuntimeWarning: invalid value encountered in less\n",
      "  self.Total_water_pool_slat[dd][water_pit_idx<=0]\n",
      "/Users/gilgameshj/Desktop/PhD/project/Chapter1/model_development/global model/AMCLIM/MODULES/HOUSING_v2.py:979: RuntimeWarning: invalid value encountered in greater_equal\n",
      "  self.modelled_emiss_slat[dd+1][emiss_slat_idx>=0] = self.TAN_pool_ug_slat[dd+1][emiss_slat_idx>=0]\n",
      "/Users/gilgameshj/Desktop/PhD/project/Chapter1/model_development/global model/AMCLIM/MODULES/HOUSING_v2.py:980: RuntimeWarning: invalid value encountered in less\n",
      "  self.modelled_emiss_slat[dd+1][emiss_slat_idx<0] = self.NH3_gas_ug_slat[dd+1][emiss_slat_idx<0]*3600*timestep/\\\n",
      "/Users/gilgameshj/Desktop/PhD/project/Chapter1/model_development/global model/AMCLIM/MODULES/HOUSING_v2.py:981: RuntimeWarning: invalid value encountered in less\n",
      "  self.R_star_slat[dd+1][emiss_slat_idx<0]\n",
      "/Users/gilgameshj/Desktop/PhD/project/Chapter1/model_development/global model/AMCLIM/MODULES/HOUSING_v2.py:984: RuntimeWarning: invalid value encountered in greater_equal\n",
      "  self.modelled_emiss_pit[dd+1][emiss_pit_idx>=0] = self.TAN_pool_ug_pit[dd+1][emiss_pit_idx>=0]\n",
      "/Users/gilgameshj/Desktop/PhD/project/Chapter1/model_development/global model/AMCLIM/MODULES/HOUSING_v2.py:985: RuntimeWarning: invalid value encountered in less\n",
      "  self.modelled_emiss_pit[dd+1][emiss_pit_idx<0] = self.NH3_gas_ug_pit[dd+1][emiss_pit_idx<0]*3600*timestep/\\\n",
      "/Users/gilgameshj/Desktop/PhD/project/Chapter1/model_development/global model/AMCLIM/MODULES/HOUSING_v2.py:986: RuntimeWarning: invalid value encountered in less\n",
      "  self.R_star_pit[dd+1][emiss_pit_idx<0]\n",
      "/Users/gilgameshj/Desktop/PhD/project/Chapter1/model_development/global model/AMCLIM/MODULES/HOUSING_v2.py:945: RuntimeWarning: invalid value encountered in greater\n",
      "  self.TAN_pool_slat[dd][TAN_pit_idx>0]-self.NH3_flux_slat[dd][TAN_pit_idx>0]\n",
      "/Users/gilgameshj/Desktop/PhD/project/Chapter1/model_development/global model/AMCLIM/MODULES/HOUSING_v2.py:946: RuntimeWarning: invalid value encountered in less_equal\n",
      "  self.TAN_pool_pit[dd+1][TAN_pit_idx<=0] = self.TAN_prod_pit[dd+1][TAN_pit_idx<=0]+self.TAN_pool_slat[dd][TAN_pit_idx<=0]-\\\n",
      "/Users/gilgameshj/Desktop/PhD/project/Chapter1/model_development/global model/AMCLIM/MODULES/HOUSING_v2.py:947: RuntimeWarning: invalid value encountered in less_equal\n",
      "  self.NH3_flux_slat[dd][TAN_pit_idx<=0]\n"
     ]
    }
   ],
   "source": [
    "## test MODULE.HOUSING\n",
    "month_start=7\n",
    "print(Months_name[month_start-1])\n",
    "\n",
    "test_SLAT_PIT_sim.housing_init()\n",
    "test_SLAT_PIT_sim.slat_pit_housing_sim(Months_idx[month_start-1],Months_idx[month_start],\n",
    "                                       f_slat=test_SLAT_PIT_sim.fslat,f_gap=test_SLAT_PIT_sim.fgap)\n",
    "\n",
    "slat_emiss = np.nansum(test_SLAT_PIT_sim.NH3_flux_slat,axis=0)*farming_area\n",
    "pit_emiss = np.nansum(test_SLAT_PIT_sim.NH3_flux_pit,axis=0)*farming_area\n",
    "total_emiss = slat_emiss+pit_emiss\n",
    "\n",
    "\n",
    "# total_emiss = np.nansum(NH3_flux_from_barn,axis=0)*farming_area\n",
    "\n",
    "total_N_Jan = excretN_info*1000*31/365\n",
    "Pv = total_emiss/total_N_Jan*100\n",
    "\n",
    "print('NH3 emission from slat is '+str(np.nansum(slat_emiss)/1e9)+ 'Gg')\n",
    "print('NH3 emission from pit is '+str(np.nansum(pit_emiss)/1e9)+' Gg')\n",
    "print('Total NH3 emission is '+str(np.nansum(total_emiss)/1e9)+' Gg')\n",
    "print('Monthly excreted N is '+str(np.nansum(total_N_Jan)/1e9)+' Gg')\n",
    "print('Average Pv is '+str(np.nansum(total_emiss)/np.nansum(total_N_Jan)*100)+' %')"
   ]
  },
  {
   "cell_type": "code",
   "execution_count": 8,
   "metadata": {},
   "outputs": [
    {
     "name": "stdout",
     "output_type": "stream",
     "text": [
      "NH3 emission from slat is 67.15096478635785Gg\n",
      "NH3 emission from pit is 69.06424647078927 Gg\n",
      "Total NH3 emission is 136.2152112571471 Gg\n",
      "Monthly excreted N is 486.6875368538635 Gg\n",
      "Average Pv is 27.988226725034902 %\n"
     ]
    }
   ],
   "source": [
    "slat_emiss = np.nansum(test_SLAT_PIT_sim.NH3_flux_slat,axis=0)*farming_area\n",
    "pit_emiss = np.nansum(test_SLAT_PIT_sim.NH3_flux_pit,axis=0)*farming_area\n",
    "total_emiss = slat_emiss+pit_emiss\n",
    "\n",
    "\n",
    "# total_emiss = np.nansum(NH3_flux_from_barn,axis=0)*farming_area\n",
    "\n",
    "total_N_Jan = excretN_info*1000*31/365\n",
    "Pv = total_emiss/total_N_Jan*100\n",
    "\n",
    "print('NH3 emission from slat is '+str(np.nansum(slat_emiss)/1e9)+ 'Gg')\n",
    "print('NH3 emission from pit is '+str(np.nansum(pit_emiss)/1e9)+' Gg')\n",
    "print('Total NH3 emission is '+str(np.nansum(total_emiss)/1e9)+' Gg')\n",
    "print('Monthly excreted N is '+str(np.nansum(total_N_Jan)/1e9)+' Gg')\n",
    "print('Average Pv is '+str(np.nansum(total_emiss)/np.nansum(total_N_Jan)*100)+' %')\n"
   ]
  },
  {
   "cell_type": "code",
   "execution_count": 2,
   "metadata": {
    "scrolled": true
   },
   "outputs": [
    {
     "name": "stdout",
     "output_type": "stream",
     "text": [
      "Jul\n"
     ]
    },
    {
     "name": "stderr",
     "output_type": "stream",
     "text": [
      "/Users/gilgameshj/Desktop/PhD/project/Chapter1/model_development/global model/AMCLIM/MODULES/HOUSING.py:301: RuntimeWarning: invalid value encountered in greater_equal\n",
      "  manure_initwc_slat[dd+1][water_slat_idx>=0] -\\\n",
      "/Users/gilgameshj/Desktop/PhD/project/Chapter1/model_development/global model/AMCLIM/MODULES/HOUSING.py:302: RuntimeWarning: invalid value encountered in greater_equal\n",
      "  evap_slat[dd+1][water_slat_idx>=0]\n",
      "/Users/gilgameshj/Desktop/PhD/project/Chapter1/model_development/global model/AMCLIM/MODULES/HOUSING.py:303: RuntimeWarning: invalid value encountered in less\n",
      "  Total_water_pool_slat[dd+1][water_slat_idx<0] = manure_minwc_slat[dd+1][water_slat_idx<0]\n",
      "/Users/gilgameshj/Desktop/PhD/project/Chapter1/model_development/global model/AMCLIM/MODULES/HOUSING.py:309: RuntimeWarning: invalid value encountered in greater\n",
      "  evap_pit[dd][water_pit_idx>0] +\\\n",
      "/Users/gilgameshj/Desktop/PhD/project/Chapter1/model_development/global model/AMCLIM/MODULES/HOUSING.py:310: RuntimeWarning: invalid value encountered in greater\n",
      "  Total_water_pool_slat[dd][water_pit_idx>0]\n",
      "/Users/gilgameshj/Desktop/PhD/project/Chapter1/model_development/global model/AMCLIM/MODULES/HOUSING.py:310: RuntimeWarning: invalid value encountered in greater_equal\n",
      "  Total_water_pool_slat[dd][water_pit_idx>0]\n",
      "/Users/gilgameshj/Desktop/PhD/project/Chapter1/model_development/global model/AMCLIM/MODULES/HOUSING.py:313: RuntimeWarning: invalid value encountered in less_equal\n",
      "  manure_initwc_pit[dd+1][water_pit_idx<=0] +\\\n",
      "/Users/gilgameshj/Desktop/PhD/project/Chapter1/model_development/global model/AMCLIM/MODULES/HOUSING.py:314: RuntimeWarning: invalid value encountered in less_equal\n",
      "  Total_water_pool_slat[dd][water_pit_idx<=0]\n",
      "/Users/gilgameshj/Desktop/PhD/project/Chapter1/model_development/global model/AMCLIM/MODULES/HOUSING.py:314: RuntimeWarning: invalid value encountered in less\n",
      "  Total_water_pool_slat[dd][water_pit_idx<=0]\n",
      "/Users/gilgameshj/Desktop/PhD/project/Chapter1/model_development/global model/AMCLIM/MODULES/HOUSING.py:355: RuntimeWarning: invalid value encountered in greater_equal\n",
      "  modelled_emiss_slat[dd+1][emiss_slat_idx>=0] = TAN_pool_ug_slat[dd+1][emiss_slat_idx>=0]\n",
      "/Users/gilgameshj/Desktop/PhD/project/Chapter1/model_development/global model/AMCLIM/MODULES/HOUSING.py:356: RuntimeWarning: invalid value encountered in less\n",
      "  modelled_emiss_slat[dd+1][emiss_slat_idx<0] = NH3_gas_ug_slat[dd+1][emiss_slat_idx<0]*3600*24/\\\n",
      "/Users/gilgameshj/Desktop/PhD/project/Chapter1/model_development/global model/AMCLIM/MODULES/HOUSING.py:357: RuntimeWarning: invalid value encountered in less\n",
      "  R_star_slat[dd+1][emiss_slat_idx<0]\n",
      "/Users/gilgameshj/Desktop/PhD/project/Chapter1/model_development/global model/AMCLIM/MODULES/HOUSING.py:360: RuntimeWarning: invalid value encountered in greater_equal\n",
      "  modelled_emiss_pit[dd+1][emiss_pit_idx>=0] = TAN_pool_ug_pit[dd+1][emiss_pit_idx>=0]\n",
      "/Users/gilgameshj/Desktop/PhD/project/Chapter1/model_development/global model/AMCLIM/MODULES/HOUSING.py:361: RuntimeWarning: invalid value encountered in less\n",
      "  modelled_emiss_pit[dd+1][emiss_pit_idx<0] = NH3_gas_ug_pit[dd+1][emiss_pit_idx<0]*3600*24/\\\n",
      "/Users/gilgameshj/Desktop/PhD/project/Chapter1/model_development/global model/AMCLIM/MODULES/HOUSING.py:362: RuntimeWarning: invalid value encountered in less\n",
      "  R_star_pit[dd+1][emiss_pit_idx<0]\n",
      "/Users/gilgameshj/Desktop/PhD/project/Chapter1/model_development/global model/AMCLIM/MODULES/HOUSING.py:321: RuntimeWarning: invalid value encountered in greater\n",
      "  TAN_pool_slat[dd][TAN_pit_idx>0]-NH3_flux_slat[dd][TAN_pit_idx>0]\n",
      "/Users/gilgameshj/Desktop/PhD/project/Chapter1/model_development/global model/AMCLIM/MODULES/HOUSING.py:322: RuntimeWarning: invalid value encountered in less_equal\n",
      "  TAN_pool_pit[dd+1][TAN_pit_idx<=0] = TAN_prod_pit[dd+1][TAN_pit_idx<=0]+TAN_pool_slat[dd][TAN_pit_idx<=0]-\\\n",
      "/Users/gilgameshj/Desktop/PhD/project/Chapter1/model_development/global model/AMCLIM/MODULES/HOUSING.py:323: RuntimeWarning: invalid value encountered in less_equal\n",
      "  NH3_flux_slat[dd][TAN_pit_idx<=0]\n"
     ]
    },
    {
     "name": "stdout",
     "output_type": "stream",
     "text": [
      "NH3 emission from slat is 71.63011886396424Gg\n",
      "NH3 emission from pit is 72.01013552619817 Gg\n",
      "Total NH3 emission is 0.0 Gg\n",
      "Monthly excreted N is 486.6875368538635 Gg\n",
      "Average Pv is 0.0 %\n"
     ]
    }
   ],
   "source": [
    "## test MODULE.HOUSING\n",
    "month_start=7\n",
    "print(Months_name[month_start-1])\n",
    "housing_init()\n",
    "slat_pit_housing_sim(Months_idx[month_start-1],Months_idx[month_start],f_slat=0.4,f_gap=0.6)\n",
    "\n",
    "slat_emiss = np.nansum(NH3_flux_slat,axis=0)*farming_area\n",
    "pit_emiss = np.nansum(NH3_flux_pit,axis=0)*farming_area\n",
    "total_emiss = slat_emiss+pit_emiss\n",
    "\n",
    "\n",
    "# total_emiss = np.nansum(NH3_flux_from_barn,axis=0)*farming_area\n",
    "\n",
    "total_N_Jan = excretN_info*1000*31/365\n",
    "Pv = total_emiss/total_N_Jan*100\n",
    "\n",
    "print('NH3 emission from slat is '+str(np.nansum(slat_emiss)/1e9)+ 'Gg')\n",
    "print('NH3 emission from pit is '+str(np.nansum(pit_emiss)/1e9)+' Gg')\n",
    "print('Total NH3 emission is '+str(np.nansum(total_emiss)/1e9)+' Gg')\n",
    "print('Monthly excreted N is '+str(np.nansum(total_N_Jan)/1e9)+' Gg')\n",
    "print('Average Pv is '+str(np.nansum(total_emiss)/np.nansum(total_N_Jan)*100)+' %')\n",
    "\n",
    "# plot_monthlysim(total_emiss,Pv,month_start)\n"
   ]
  },
  {
   "cell_type": "code",
   "execution_count": 4,
   "metadata": {},
   "outputs": [
    {
     "name": "stdout",
     "output_type": "stream",
     "text": [
      "Jul\n"
     ]
    },
    {
     "name": "stderr",
     "output_type": "stream",
     "text": [
      "/Users/gilgameshj/Desktop/PhD/project/Chapter1/model_development/global model/AMCLIM/MODULES/HOUSING.py:402: RuntimeWarning: invalid value encountered in greater\n",
      "  manure_initwc[dd+1][water_idx>0] -\\\n",
      "/Users/gilgameshj/Desktop/PhD/project/Chapter1/model_development/global model/AMCLIM/MODULES/HOUSING.py:403: RuntimeWarning: invalid value encountered in greater\n",
      "  evap[dd+1][water_idx>0]\n",
      "/Users/gilgameshj/Desktop/PhD/project/Chapter1/model_development/global model/AMCLIM/MODULES/HOUSING.py:403: RuntimeWarning: invalid value encountered in greater_equal\n",
      "  evap[dd+1][water_idx>0]\n",
      "/Users/gilgameshj/Desktop/PhD/project/Chapter1/model_development/global model/AMCLIM/MODULES/HOUSING.py:404: RuntimeWarning: invalid value encountered in less_equal\n",
      "  Total_water_pool[dd+1][water_idx<0] = manure_minwc[dd+1][water_idx<=0]\n",
      "/Users/gilgameshj/Desktop/PhD/project/Chapter1/model_development/global model/AMCLIM/MODULES/HOUSING.py:404: RuntimeWarning: invalid value encountered in less\n",
      "  Total_water_pool[dd+1][water_idx<0] = manure_minwc[dd+1][water_idx<=0]\n",
      "/Users/gilgameshj/Desktop/PhD/project/Chapter1/model_development/global model/AMCLIM/MODULES/HOUSING.py:432: RuntimeWarning: invalid value encountered in greater_equal\n",
      "  modelled_emiss[dd+1][emiss_idx>=0] = TAN_pool_ug[dd+1][emiss_idx>=0]\n",
      "/Users/gilgameshj/Desktop/PhD/project/Chapter1/model_development/global model/AMCLIM/MODULES/HOUSING.py:433: RuntimeWarning: invalid value encountered in less\n",
      "  modelled_emiss[dd+1][emiss_idx<0] = NH3_gas_ug[dd+1][emiss_idx<0]*3600*24/\\\n",
      "/Users/gilgameshj/Desktop/PhD/project/Chapter1/model_development/global model/AMCLIM/MODULES/HOUSING.py:434: RuntimeWarning: invalid value encountered in less\n",
      "  R_star[dd+1][emiss_idx<0]\n"
     ]
    },
    {
     "name": "stdout",
     "output_type": "stream",
     "text": [
      "Total NH3 emission is 84.90306258667806 Gg\n"
     ]
    }
   ],
   "source": [
    "month_start=7\n",
    "print(Months_name[month_start-1])\n",
    "\n",
    "def housing_to_storage(start_day_idx,end_day_idx,clean_frequency):\n",
    "    housing_init()\n",
    "    for dd in np.arange(start_day_idx,end_day_idx,clean_frequency):\n",
    "        barn_sim(dd,dd+clean_frequency+1)\n",
    "        cleaning_barn_init(dd+clean_frequency)\n",
    "    return\n",
    "\n",
    "housing_to_storage(Months_idx[month_start-1],Months_idx[month_start],1)\n",
    "\n",
    "total_emiss = np.nansum(NH3_flux_from_barn[Months_idx[month_start-1]:Months_idx[month_start]],axis=0)*farming_area\n",
    "\n",
    "print('Total NH3 emission is '+str(np.nansum(total_emiss)/1e9)+' Gg')"
   ]
  },
  {
   "cell_type": "code",
   "execution_count": 9,
   "metadata": {},
   "outputs": [],
   "source": [
    "test_mtrx = [10,10]\n",
    "test_con = \"ind\"\n",
    "\n",
    "def test_func(val):\n",
    "    pval = 0.6 * val\n",
    "    return pval\n",
    "\n",
    "class test_class:\n",
    "    test_inside_con = 'live'\n",
    "    def __init__(self,shape):\n",
    "        self.aaa = np.zeros(shape)\n",
    "        self.bbb = np.zeros(shape)\n",
    "    \n",
    "    if test_con == \"ind\":\n",
    "        ccc = 100\n",
    "    else:\n",
    "        ccc = 200\n",
    "        \n",
    "    ddd = test_func(ccc)\n",
    "        \n",
    "        \n",
    "    def justify_inside(self):\n",
    "        if self.test_inside_con == 'live':\n",
    "            print('a')\n",
    "        else:\n",
    "            print('b')\n",
    "        \n",
    "    def test_sim(self,test_period):\n",
    "        for ii in np.arange(test_period):\n",
    "            self.aaa[ii] = 2* ii\n",
    "            self.bbb[ii] = self.aaa[ii]+self.ddd\n",
    "            \n",
    "    def test_sim2(self):\n",
    "        \n",
    "        eee = self.ccc*2\n",
    "        return eee\n",
    "    \n",
    "    def test_sim3(self):\n",
    "        \n",
    "        fff = 100*self.test_sim2()\n",
    "        return fff"
   ]
  },
  {
   "cell_type": "code",
   "execution_count": 10,
   "metadata": {},
   "outputs": [
    {
     "data": {
      "text/plain": [
       "20000"
      ]
     },
     "execution_count": 10,
     "metadata": {},
     "output_type": "execute_result"
    }
   ],
   "source": [
    "test_out = test_class(test_mtrx)\n",
    "test_out.test_sim3()"
   ]
  },
  {
   "cell_type": "code",
   "execution_count": 15,
   "metadata": {},
   "outputs": [
    {
     "name": "stdout",
     "output_type": "stream",
     "text": [
      "90\n",
      "180\n",
      "270\n",
      "360\n",
      "365\n"
     ]
    }
   ],
   "source": [
    "for ii in np.arange(0,365,90):\n",
    "    if ii+90<365:\n",
    "        print(ii+90)\n",
    "    else:\n",
    "        print(365)"
   ]
  },
  {
   "cell_type": "code",
   "execution_count": null,
   "metadata": {},
   "outputs": [],
   "source": []
  }
 ],
 "metadata": {
  "kernelspec": {
   "display_name": "Python 3",
   "language": "python",
   "name": "python3"
  },
  "language_info": {
   "codemirror_mode": {
    "name": "ipython",
    "version": 3
   },
   "file_extension": ".py",
   "mimetype": "text/x-python",
   "name": "python",
   "nbconvert_exporter": "python",
   "pygments_lexer": "ipython3",
   "version": "3.6.7"
  }
 },
 "nbformat": 4,
 "nbformat_minor": 2
}
